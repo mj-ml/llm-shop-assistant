{
 "cells": [
  {
   "metadata": {},
   "cell_type": "markdown",
   "source": "# elasticsearch\n",
   "id": "acca30180d1079a3"
  },
  {
   "metadata": {
    "ExecuteTime": {
     "end_time": "2024-10-03T05:27:05.416381Z",
     "start_time": "2024-10-03T05:26:56.465073Z"
    }
   },
   "cell_type": "code",
   "source": [
    "from elasticsearch import Elasticsearch\n",
    "from sentence_transformers import SentenceTransformer\n",
    "\n",
    "model = SentenceTransformer(\"multi-qa-distilbert-cos-v1\")\n",
    "\n",
    "from tqdm.auto import tqdm\n",
    "\n",
    "# es_client = Elasticsearch('http://elasticsearch:9200') \n",
    "es_client = Elasticsearch('http://localhost:9200')\n"
   ],
   "id": "c5bd5d11eb2dd726",
   "outputs": [
    {
     "name": "stderr",
     "output_type": "stream",
     "text": [
      "/home/mikel/.virtualenvs/llm-zoomcamp/lib/python3.8/site-packages/transformers/tokenization_utils_base.py:1601: FutureWarning: `clean_up_tokenization_spaces` was not set. It will be set to `True` by default. This behavior will be depracted in transformers v4.45, and will be then set to `False` by default. For more details check this issue: https://github.com/huggingface/transformers/issues/31884\n",
      "  warnings.warn(\n"
     ]
    }
   ],
   "execution_count": 13
  },
  {
   "metadata": {
    "ExecuteTime": {
     "end_time": "2024-10-01T12:34:30.086590Z",
     "start_time": "2024-10-01T12:34:30.082098Z"
    }
   },
   "cell_type": "code",
   "source": [
    "questions_path = \"data/questions.json\"\n",
    "import json\n",
    "\n",
    "# Open and load the JSON file\n",
    "with open(questions_path, 'r') as file:\n",
    "    questions = json.load(file)\n",
    "\n"
   ],
   "id": "99afcdd0a08f02c",
   "outputs": [],
   "execution_count": 6
  },
  {
   "metadata": {
    "ExecuteTime": {
     "end_time": "2024-10-01T12:34:34.721146Z",
     "start_time": "2024-10-01T12:34:31.048176Z"
    }
   },
   "cell_type": "code",
   "source": [
    "import hashlib\n",
    "\n",
    "documents = []\n",
    "\n",
    "\n",
    "def generate_document_id(doc):\n",
    "    combined = f\"{doc['question']}-{doc['answer'][:10]}\"\n",
    "    hash_object = hashlib.md5(combined.encode())\n",
    "    hash_hex = hash_object.hexdigest()\n",
    "    document_id = hash_hex[:8]\n",
    "    return document_id\n",
    "\n",
    "\n",
    "for question in questions['questions']:\n",
    "    question['text_vector'] = model.encode(question['answer']).tolist()\n",
    "    question['doc_id'] = generate_document_id(question)\n",
    "    documents.append(question)\n"
   ],
   "id": "fcd5ad30172030c3",
   "outputs": [],
   "execution_count": 7
  },
  {
   "metadata": {
    "ExecuteTime": {
     "end_time": "2024-10-01T12:34:37.277473Z",
     "start_time": "2024-10-01T12:34:37.145205Z"
    }
   },
   "cell_type": "code",
   "source": "es_client.info()\n",
   "id": "fd1c11ef437a5643",
   "outputs": [
    {
     "data": {
      "text/plain": [
       "ObjectApiResponse({'name': '601241a3dbc7', 'cluster_name': 'docker-cluster', 'cluster_uuid': '51NRbnGSQAq2SNCUrsaqIQ', 'version': {'number': '8.4.3', 'build_flavor': 'default', 'build_type': 'docker', 'build_hash': '42f05b9372a9a4a470db3b52817899b99a76ee73', 'build_date': '2022-10-04T07:17:24.662462378Z', 'build_snapshot': False, 'lucene_version': '9.3.0', 'minimum_wire_compatibility_version': '7.17.0', 'minimum_index_compatibility_version': '7.0.0'}, 'tagline': 'You Know, for Search'})"
      ]
     },
     "execution_count": 8,
     "metadata": {},
     "output_type": "execute_result"
    }
   ],
   "execution_count": 8
  },
  {
   "metadata": {
    "ExecuteTime": {
     "end_time": "2024-10-01T12:34:39.553848Z",
     "start_time": "2024-10-01T12:34:39.545044Z"
    }
   },
   "cell_type": "code",
   "source": "documents[0].keys()",
   "id": "c28e94d9357ebfbb",
   "outputs": [
    {
     "data": {
      "text/plain": [
       "dict_keys(['question', 'answer', 'text_vector', 'doc_id'])"
      ]
     },
     "execution_count": 9,
     "metadata": {},
     "output_type": "execute_result"
    }
   ],
   "execution_count": 9
  },
  {
   "metadata": {
    "ExecuteTime": {
     "end_time": "2024-10-01T12:34:40.563566Z",
     "start_time": "2024-10-01T12:34:40.558668Z"
    }
   },
   "cell_type": "code",
   "source": [
    "index_settings = {\n",
    "    \"settings\": {\n",
    "        \"number_of_shards\": 1,\n",
    "        \"number_of_replicas\": 0\n",
    "    },\n",
    "    \"mappings\": {\n",
    "        \"properties\": {\n",
    "            \"answer\": {\"type\": \"text\"},\n",
    "            \"question\": {\"type\": \"text\"},\n",
    "            \"doc_id\": {\"type\": \"text\"},\n",
    "            \"text_vector\": {\"type\": \"dense_vector\", \"dims\": 768, \"index\": True, \"similarity\": \"cosine\"},\n",
    "        }\n",
    "    }\n",
    "}"
   ],
   "id": "36b27ab2004a4bbf",
   "outputs": [],
   "execution_count": 10
  },
  {
   "metadata": {
    "ExecuteTime": {
     "end_time": "2024-10-01T12:34:43.435778Z",
     "start_time": "2024-10-01T12:34:43.168178Z"
    }
   },
   "cell_type": "code",
   "source": [
    "index_name = \"faq\"\n",
    "es_client.indices.delete(index=index_name, ignore_unavailable=True)\n",
    "es_client.indices.create(index=index_name, body=index_settings)\n"
   ],
   "id": "5b786a10f031cc96",
   "outputs": [
    {
     "data": {
      "text/plain": [
       "ObjectApiResponse({'acknowledged': True, 'shards_acknowledged': True, 'index': 'faq'})"
      ]
     },
     "execution_count": 11,
     "metadata": {},
     "output_type": "execute_result"
    }
   ],
   "execution_count": 11
  },
  {
   "metadata": {
    "ExecuteTime": {
     "end_time": "2024-10-01T12:34:47.654697Z",
     "start_time": "2024-10-01T12:34:46.737571Z"
    }
   },
   "cell_type": "code",
   "source": [
    "for doc in documents:\n",
    "    try:\n",
    "        es_client.index(index=index_name, document=doc)\n",
    "    except Exception as e:\n",
    "        print(e)"
   ],
   "id": "9d92c98be008bd88",
   "outputs": [],
   "execution_count": 12
  },
  {
   "metadata": {
    "ExecuteTime": {
     "end_time": "2024-10-01T12:34:50.123415Z",
     "start_time": "2024-10-01T12:34:50.031742Z"
    }
   },
   "cell_type": "code",
   "source": [
    "search_term = \"can I return?\"\n",
    "vector_search_term = model.encode(search_term)\n",
    "\n",
    "query = {\n",
    "    \"field\": \"text_vector\",\n",
    "    \"query_vector\": vector_search_term,\n",
    "    \"k\": 5,\n",
    "    \"num_candidates\": 100,\n",
    "}\n",
    "\n",
    "res = es_client.search(index=index_name, knn=query, source=[\"answer\", \"question\", 'doc_id'])\n",
    "res[\"hits\"][\"hits\"]"
   ],
   "id": "f934cfb9364d414a",
   "outputs": [
    {
     "data": {
      "text/plain": [
       "[{'_index': 'faq',\n",
       "  '_id': 'A4wTSJIBzLr7WNaMcv69',\n",
       "  '_score': 0.8741443,\n",
       "  '_source': {'question': 'Can I return a product if I changed my mind?',\n",
       "   'answer': 'Yes, you can return a product if you changed your mind. Please ensure the product is in its original condition and packaging, and refer to our return policy for instructions.',\n",
       "   'doc_id': '9a9ab0e5'}},\n",
       " {'_index': 'faq',\n",
       "  '_id': 'I4wTSJIBzLr7WNaMdP4x',\n",
       "  '_score': 0.82811165,\n",
       "  '_source': {'question': 'Can I return a product if it was damaged due to improper use?',\n",
       "   'answer': 'Our return policy generally covers products that are defective or damaged upon arrival. Damage due to improper use may not be eligible for a return. Please contact our customer support team for assistance.',\n",
       "   'doc_id': '2caeef0d'}},\n",
       " {'_index': 'faq',\n",
       "  '_id': 'EYwTSJIBzLr7WNaMc_6o',\n",
       "  '_score': 0.81617165,\n",
       "  '_source': {'question': 'Can I return a product if I no longer have the original packaging?',\n",
       "   'answer': 'While returning a product in its original packaging is preferred, you can still initiate a return without it. Contact our customer support team for guidance in such cases.',\n",
       "   'doc_id': 'd1379f24'}},\n",
       " {'_index': 'faq',\n",
       "  '_id': '7IwTSJIBzLr7WNaMcf2w',\n",
       "  '_score': 0.7847283,\n",
       "  '_source': {'question': 'What is your return policy?',\n",
       "   'answer': 'Our return policy allows you to return products within 30 days of purchase for a full refund, provided they are in their original condition and packaging. Please refer to our Returns page for detailed instructions.',\n",
       "   'doc_id': 'ae7b5c39'}},\n",
       " {'_index': 'faq',\n",
       "  '_id': 'OIwTSJIBzLr7WNaMdP7d',\n",
       "  '_score': 0.77442837,\n",
       "  '_source': {'question': 'Can I return a product if it was purchased during a promotional event?',\n",
       "   'answer': 'Yes, you can return a product purchased during a promotional event. The refund will be processed based on the amount paid after any applicable discounts.',\n",
       "   'doc_id': 'dc347b46'}}]"
      ]
     },
     "execution_count": 13,
     "metadata": {},
     "output_type": "execute_result"
    }
   ],
   "execution_count": 13
  },
  {
   "metadata": {},
   "cell_type": "markdown",
   "source": "# Evaluate retrieval ",
   "id": "a7f3c8cf1a78bcf4"
  },
  {
   "metadata": {
    "ExecuteTime": {
     "end_time": "2024-10-03T05:28:16.493073Z",
     "start_time": "2024-10-03T05:28:15.260555Z"
    }
   },
   "cell_type": "code",
   "source": [
    "import pandas as pd\n",
    "from elasticsearch import Elasticsearch\n",
    "from sentence_transformers import SentenceTransformer\n",
    "\n",
    "model = SentenceTransformer(\"multi-qa-distilbert-cos-v1\")\n",
    "\n",
    "from tqdm.auto import tqdm\n",
    "\n",
    "# es_client = Elasticsearch('http://elasticsearch:9200') \n",
    "es_client = Elasticsearch('http://localhost:9200')\n",
    "\n",
    "df_ground_truth = pd.read_csv('data/ground_truth.csv')\n",
    "ground_truth = df_ground_truth.to_dict(orient='records')\n",
    "index_name = \"faq\"\n"
   ],
   "id": "c24f0c5fb8a36a9",
   "outputs": [
    {
     "name": "stderr",
     "output_type": "stream",
     "text": [
      "/home/mikel/.virtualenvs/llm-zoomcamp/lib/python3.8/site-packages/transformers/tokenization_utils_base.py:1601: FutureWarning: `clean_up_tokenization_spaces` was not set. It will be set to `True` by default. This behavior will be depracted in transformers v4.45, and will be then set to `False` by default. For more details check this issue: https://github.com/huggingface/transformers/issues/31884\n",
      "  warnings.warn(\n"
     ]
    }
   ],
   "execution_count": 19
  },
  {
   "metadata": {
    "ExecuteTime": {
     "end_time": "2024-10-03T05:28:18.370374Z",
     "start_time": "2024-10-03T05:28:18.364588Z"
    }
   },
   "cell_type": "code",
   "source": [
    "def mrr(relevance_total):\n",
    "    total_score = 0.0\n",
    "\n",
    "    for line in relevance_total:\n",
    "        for rank in range(len(line)):\n",
    "            if line[rank] == True:\n",
    "                total_score = total_score + 1 / (rank + 1)\n",
    "\n",
    "    return total_score / len(relevance_total)"
   ],
   "id": "29858cb80a9490e1",
   "outputs": [],
   "execution_count": 20
  },
  {
   "metadata": {
    "ExecuteTime": {
     "end_time": "2024-10-03T05:54:44.374970Z",
     "start_time": "2024-10-03T05:54:44.366038Z"
    }
   },
   "cell_type": "code",
   "source": [
    "def elastic_search_knn(search_term, index_name=\"faq\"):\n",
    "    vector_search_term = model.encode(search_term)\n",
    "    query = {\n",
    "        \"field\": \"text_vector\",\n",
    "        \"query_vector\": vector_search_term,\n",
    "        \"k\": 5,\n",
    "        \"num_candidates\": 100,\n",
    "    }\n",
    "    es_results = es_client.search(index=index_name, knn=query, source=[\"answer\", \"question\", 'doc_id'])\n",
    "    return [hit[\"_source\"] for hit in es_results[\"hits\"][\"hits\"]]\n",
    "\n",
    "\n",
    "def elastic_search_text(query, index_name=\"faq\"):\n",
    "    search_query = {\n",
    "        \"size\": 5,\n",
    "        \"query\": {\n",
    "            \"bool\": {\n",
    "                \"must\": {\n",
    "                    \"multi_match\": {\n",
    "                        \"query\": query,\n",
    "                        \"fields\": [\"question^3\", \"answer\"],\n",
    "                        \"type\": \"best_fields\"\n",
    "                    }\n",
    "                },\n",
    "            }\n",
    "        }\n",
    "    }\n",
    "    response = es_client.search(index=index_name, body=search_query)\n",
    "    return [hit[\"_source\"] for hit in response[\"hits\"][\"hits\"]]\n",
    "\n",
    "\n",
    "def elastic_search_hybrid(search_term, index_name=\"faq\"):\n",
    "    text_query = {\n",
    "        \"size\": 5,\n",
    "        \"query\": {\n",
    "            \"bool\": {\n",
    "                \"must\": {\n",
    "                    \"multi_match\": {\n",
    "                        \"query\": search_term,\n",
    "                        \"fields\": [\"question^3\", \"answer\"],\n",
    "                        \"type\": \"best_fields\"\n",
    "                    }\n",
    "                },\n",
    "            }\n",
    "        }\n",
    "    }\n",
    "    vector_search_term = model.encode(search_term)\n",
    "\n",
    "    vector_query = {\n",
    "        \"field\": \"text_vector\",\n",
    "        \"query_vector\": vector_search_term,\n",
    "        \"k\": 5,\n",
    "        \"num_candidates\": 100,\n",
    "    }\n",
    "\n",
    "    # Perform the search with the constructed query\n",
    "    es_results = es_client.search(index=index_name,\n",
    "                                  query=text_query,\n",
    "                                  knn=vector_query,\n",
    "                                  source=[\"answer\", \"question\", 'doc_id'],\n",
    "                                  )\n",
    "\n",
    "    # Extract and return the results\n",
    "    result_docs = [hit[\"_source\"] for hit in es_results[\"hits\"][\"hits\"]]\n",
    "\n",
    "    return result_docs"
   ],
   "id": "98c8f791a38085f4",
   "outputs": [],
   "execution_count": 32
  },
  {
   "metadata": {
    "ExecuteTime": {
     "end_time": "2024-10-03T05:54:46.155228Z",
     "start_time": "2024-10-03T05:54:46.149576Z"
    }
   },
   "cell_type": "code",
   "source": [
    "def hit_rate_one(original_id, search_results):\n",
    "    return 1 if original_id in search_results else 0\n",
    "\n",
    "\n",
    "def mrr_one(original_id, search_results):\n",
    "    mrr = 0\n",
    "    for position in range(len(search_results)):\n",
    "        if search_results[position] == original_id:\n",
    "            mrr += 1 / (position + 1)\n",
    "    return mrr"
   ],
   "id": "343d185db8a899d3",
   "outputs": [],
   "execution_count": 33
  },
  {
   "metadata": {},
   "cell_type": "code",
   "source": [
    "hit_rate_results_text = []\n",
    "hit_rate_results_vector = []\n",
    "hit_rate_results_vector_combined = []\n",
    "mrr_results_text = []\n",
    "mrr_results_vector = []\n",
    "mrr_results_vector_combined = []\n",
    "\n",
    "for index, row in df_ground_truth.iterrows():\n",
    "    document_id = row['doc_id']\n",
    "    question = row['question']\n",
    "\n",
    "    knn_results = elastic_search_knn(question, index_name=index_name)\n",
    "    knn_results = [item['doc_id'] for item in knn_results]\n",
    "\n",
    "    text_results = elastic_search_text(question)\n",
    "    text_results = [item['doc_id'] for item in text_results]\n",
    "\n",
    "    # \n",
    "    hit_rate_vector = hit_rate_one(document_id, knn_results)\n",
    "    hit_rate_results_vector.append(hit_rate_vector)\n",
    "    mrr_vector = mrr_one(document_id, knn_results)\n",
    "    mrr_results_vector.append(mrr_vector)\n",
    "\n",
    "    hit_rate_text = hit_rate_one(document_id, text_results)\n",
    "    hit_rate_results_text.append(hit_rate_text)\n",
    "\n",
    "    mrr_text = mrr_one(document_id, text_results)\n",
    "    mrr_results_text.append(mrr_text)"
   ],
   "id": "ba5438e0e0cfefd1",
   "outputs": [],
   "execution_count": null
  },
  {
   "metadata": {
    "ExecuteTime": {
     "end_time": "2024-10-01T12:35:42.423502Z",
     "start_time": "2024-10-01T12:35:42.415672Z"
    }
   },
   "cell_type": "code",
   "source": [
    "df_ground_truth['hit_rate_results_vector'] = hit_rate_results_vector\n",
    "df_ground_truth['hit_rate_text'] = hit_rate_results_text\n",
    "\n",
    "df_ground_truth['mrr_results_vector'] = mrr_results_vector\n",
    "df_ground_truth['mrr_text'] = mrr_results_text\n",
    "\n"
   ],
   "id": "b1080b07a5d1cd4e",
   "outputs": [],
   "execution_count": 19
  },
  {
   "metadata": {
    "ExecuteTime": {
     "end_time": "2024-10-01T12:35:43.040092Z",
     "start_time": "2024-10-01T12:35:43.019073Z"
    }
   },
   "cell_type": "code",
   "source": "df_ground_truth.describe()",
   "id": "fd8cae3e565bed17",
   "outputs": [
    {
     "data": {
      "text/plain": [
       "       hit_rate_results_vector  hit_rate_text  mrr_results_vector    mrr_text\n",
       "count               400.000000     400.000000          400.000000  400.000000\n",
       "mean                  0.940000       0.847500            0.832292    0.709333\n",
       "std                   0.237784       0.359955            0.311742    0.393253\n",
       "min                   0.000000       0.000000            0.000000    0.000000\n",
       "25%                   1.000000       1.000000            1.000000    0.333333\n",
       "50%                   1.000000       1.000000            1.000000    1.000000\n",
       "75%                   1.000000       1.000000            1.000000    1.000000\n",
       "max                   1.000000       1.000000            1.000000    1.000000"
      ],
      "text/html": [
       "<div>\n",
       "<style scoped>\n",
       "    .dataframe tbody tr th:only-of-type {\n",
       "        vertical-align: middle;\n",
       "    }\n",
       "\n",
       "    .dataframe tbody tr th {\n",
       "        vertical-align: top;\n",
       "    }\n",
       "\n",
       "    .dataframe thead th {\n",
       "        text-align: right;\n",
       "    }\n",
       "</style>\n",
       "<table border=\"1\" class=\"dataframe\">\n",
       "  <thead>\n",
       "    <tr style=\"text-align: right;\">\n",
       "      <th></th>\n",
       "      <th>hit_rate_results_vector</th>\n",
       "      <th>hit_rate_text</th>\n",
       "      <th>mrr_results_vector</th>\n",
       "      <th>mrr_text</th>\n",
       "    </tr>\n",
       "  </thead>\n",
       "  <tbody>\n",
       "    <tr>\n",
       "      <th>count</th>\n",
       "      <td>400.000000</td>\n",
       "      <td>400.000000</td>\n",
       "      <td>400.000000</td>\n",
       "      <td>400.000000</td>\n",
       "    </tr>\n",
       "    <tr>\n",
       "      <th>mean</th>\n",
       "      <td>0.940000</td>\n",
       "      <td>0.847500</td>\n",
       "      <td>0.832292</td>\n",
       "      <td>0.709333</td>\n",
       "    </tr>\n",
       "    <tr>\n",
       "      <th>std</th>\n",
       "      <td>0.237784</td>\n",
       "      <td>0.359955</td>\n",
       "      <td>0.311742</td>\n",
       "      <td>0.393253</td>\n",
       "    </tr>\n",
       "    <tr>\n",
       "      <th>min</th>\n",
       "      <td>0.000000</td>\n",
       "      <td>0.000000</td>\n",
       "      <td>0.000000</td>\n",
       "      <td>0.000000</td>\n",
       "    </tr>\n",
       "    <tr>\n",
       "      <th>25%</th>\n",
       "      <td>1.000000</td>\n",
       "      <td>1.000000</td>\n",
       "      <td>1.000000</td>\n",
       "      <td>0.333333</td>\n",
       "    </tr>\n",
       "    <tr>\n",
       "      <th>50%</th>\n",
       "      <td>1.000000</td>\n",
       "      <td>1.000000</td>\n",
       "      <td>1.000000</td>\n",
       "      <td>1.000000</td>\n",
       "    </tr>\n",
       "    <tr>\n",
       "      <th>75%</th>\n",
       "      <td>1.000000</td>\n",
       "      <td>1.000000</td>\n",
       "      <td>1.000000</td>\n",
       "      <td>1.000000</td>\n",
       "    </tr>\n",
       "    <tr>\n",
       "      <th>max</th>\n",
       "      <td>1.000000</td>\n",
       "      <td>1.000000</td>\n",
       "      <td>1.000000</td>\n",
       "      <td>1.000000</td>\n",
       "    </tr>\n",
       "  </tbody>\n",
       "</table>\n",
       "</div>"
      ]
     },
     "execution_count": 20,
     "metadata": {},
     "output_type": "execute_result"
    }
   ],
   "execution_count": 20
  },
  {
   "metadata": {},
   "cell_type": "code",
   "outputs": [],
   "execution_count": null,
   "source": "",
   "id": "78c2b500f1517364"
  }
 ],
 "metadata": {
  "kernelspec": {
   "display_name": "Python 3",
   "language": "python",
   "name": "python3"
  },
  "language_info": {
   "codemirror_mode": {
    "name": "ipython",
    "version": 2
   },
   "file_extension": ".py",
   "mimetype": "text/x-python",
   "name": "python",
   "nbconvert_exporter": "python",
   "pygments_lexer": "ipython2",
   "version": "2.7.6"
  }
 },
 "nbformat": 4,
 "nbformat_minor": 5
}
