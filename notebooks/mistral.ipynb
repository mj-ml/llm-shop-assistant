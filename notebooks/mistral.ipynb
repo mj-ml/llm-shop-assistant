{
 "cells": [
  {
   "metadata": {},
   "cell_type": "markdown",
   "source": "# Mistral test\n",
   "id": "c54672b212659962"
  },
  {
   "metadata": {
    "collapsed": true
   },
   "cell_type": "code",
   "source": [
    "import pandas as pd\n",
    "from mistralai import Mistral\n",
    "\n",
    "from mistral_key import key\n",
    "\n",
    "api_key = key\n",
    "model = \"mistral-small-2409\"\n",
    "\n",
    "client = Mistral(api_key=api_key)\n",
    "\n",
    "context = \"Shipping costs 5€ in the EU, 10€ outside of the EU in Europe, 15€ to the US and Canada and 20€ everywhere else.\"\n",
    "\n",
    "question = 'How much is shipping to Somalia?'\n",
    "\n",
    "prompt = f\"\"\"\n",
    "Context information is below.\n",
    "---------------------\n",
    "{context}\n",
    "---------------------\n",
    "You are a shop assistant. Be polite with the customer. Don't give any explanation. Reply briefly.\n",
    "Given the context information and not prior knowledge, answer the query. \n",
    "Query: {question}\n",
    "Answer:\n",
    "\"\"\"\n",
    "\n",
    "chat_response = client.chat.complete(\n",
    "    model=model,\n",
    "    messages=[\n",
    "        {\n",
    "            \"role\": \"user\",\n",
    "            \"content\": prompt,\n",
    "        },\n",
    "    ]\n",
    ")\n",
    "ans = chat_response.choices[0].message.content\n",
    "print(ans)"
   ],
   "id": "initial_id",
   "outputs": [],
   "execution_count": null
  },
  {
   "metadata": {},
   "cell_type": "code",
   "source": [
    "prompt_template = \"\"\"\n",
    "    You are an expert evaluator for a Retrieval-Augmented Generation (RAG) system.\n",
    "    Your task is to analyze the relevance of the generated answer to the given question.\n",
    "    Based on the relevance of the generated answer, you will classify it\n",
    "    as \"NON_RELEVANT\", \"PARTLY_RELEVANT\", or \"RELEVANT\".\n",
    "\n",
    "    Here is the data for evaluation:\n",
    "\n",
    "    Question: {question}\n",
    "    Generated Answer: {answer}\n",
    "\n",
    "    Please analyze the content and context of the generated answer in relation to the question\n",
    "    and provide your evaluation in parsable JSON without using code blocks:\n",
    "\n",
    "    {{\n",
    "      \"Relevance\": \"NON_RELEVANT\" | \"PARTLY_RELEVANT\" | \"RELEVANT\",\n",
    "      \"Explanation\": \"[Provide a brief explanation for your evaluation]\"\n",
    "    }}\n",
    "    \"\"\".strip()\n",
    "\n",
    "prompt_eval = prompt_template.format(question=question, answer=ans)\n",
    "chat_response_eval = client.chat.complete(\n",
    "    model=model,\n",
    "    messages=[\n",
    "        {\n",
    "            \"role\": \"user\",\n",
    "            \"content\": prompt_eval,\n",
    "        },\n",
    "    ]\n",
    ")\n",
    "eval_ans = chat_response_eval.choices[0].message.content\n",
    "print(eval_ans)"
   ],
   "id": "f76a6fc6150c467f",
   "outputs": [],
   "execution_count": null
  },
  {
   "metadata": {},
   "cell_type": "markdown",
   "source": "# Ground truth generation\n",
   "id": "56db1d9445130e95"
  },
  {
   "metadata": {},
   "cell_type": "code",
   "source": [
    "questions_path = \"data/questions.json\"\n",
    "import json\n",
    "\n",
    "# Open and load the JSON file\n",
    "with open(questions_path, 'r') as file:\n",
    "    questions = json.load(file)\n",
    "\n",
    "questions"
   ],
   "id": "f86a87809aa916a7",
   "outputs": [],
   "execution_count": null
  },
  {
   "metadata": {},
   "cell_type": "code",
   "source": [
    "import hashlib\n",
    "\n",
    "docs = questions['questions']\n",
    "\n",
    "\n",
    "def generate_document_id(doc):\n",
    "    combined = f\"{doc['question']}-{doc['answer'][:10]}\"\n",
    "    hash_object = hashlib.md5(combined.encode())\n",
    "    hash_hex = hash_object.hexdigest()\n",
    "    document_id = hash_hex[:8]\n",
    "    return document_id\n",
    "\n",
    "\n",
    "for doc in docs:\n",
    "    doc['id'] = generate_document_id(doc)\n",
    "\n",
    "pd.DataFrame(docs).to_csv('data/questions-raw.csv', index=False)\n"
   ],
   "id": "6e951a26d39c9141",
   "outputs": [],
   "execution_count": null
  },
  {
   "metadata": {},
   "cell_type": "code",
   "source": [
    "prompt_template = \"\"\"\n",
    "Emulate a client who is planning to buy at our shop.\n",
    "Formulate 5 questions this client might ask based on a FAQ record. The record\n",
    "should contain the answer to the questions, and the questions should be complete and not too short.\n",
    "If possible, use as fewer words as possible from the record. \n",
    "\n",
    "The record:\n",
    "\n",
    "question: {question}\n",
    "answer: {answer}\n",
    "\n",
    "Provide the output in parsable list:\n",
    "\n",
    "[\"question1\", \"question2\", ...]\n",
    "\"\"\".strip()"
   ],
   "id": "14cd08127e125cd3",
   "outputs": [],
   "execution_count": null
  },
  {
   "metadata": {},
   "cell_type": "code",
   "source": [
    "def generate_question(doc):\n",
    "    prompt = prompt_template.format(**doc)\n",
    "\n",
    "    chat_response = client.chat.complete(\n",
    "        model=model,\n",
    "        messages=[\n",
    "            {\n",
    "                \"role\": \"user\",\n",
    "                \"content\": prompt,\n",
    "            },\n",
    "        ]\n",
    "    )\n",
    "    ans = chat_response.choices[0].message.content\n",
    "    return ans"
   ],
   "id": "f1501e3f0ab88511",
   "outputs": [],
   "execution_count": null
  },
  {
   "metadata": {},
   "cell_type": "code",
   "source": "",
   "id": "7f8754410d972f0d",
   "outputs": [],
   "execution_count": null
  },
  {
   "metadata": {},
   "cell_type": "code",
   "source": [
    "import time\n",
    "from tqdm.auto import tqdm\n",
    "\n",
    "gen_questions = {}\n",
    "\n",
    "for doc in tqdm(docs[:1]):\n",
    "    q = generate_question(doc)\n",
    "    gen_questions[doc['id']] = json.loads(q)\n",
    "    time.sleep(6)"
   ],
   "id": "22ef814afaabba79",
   "outputs": [],
   "execution_count": null
  },
  {
   "metadata": {},
   "cell_type": "code",
   "source": [
    "final = []\n",
    "for doc_id, questions in gen_questions.items():\n",
    "    for question in questions:\n",
    "        final.append((doc_id, question))\n"
   ],
   "id": "5bf89790f3af1c1b",
   "outputs": [],
   "execution_count": null
  },
  {
   "metadata": {},
   "cell_type": "code",
   "source": [
    "import pandas as pd\n",
    "\n",
    "df_questions = pd.DataFrame(final, columns=['doc_id', 'question'])\n",
    "# df_questions.to_csv(\"data/ground_truth.csv\", index=False)\n"
   ],
   "id": "e526090803bdf28b",
   "outputs": [],
   "execution_count": null
  },
  {
   "metadata": {},
   "cell_type": "code",
   "source": "df_questions",
   "id": "cb4b2037c2e4e438",
   "outputs": [],
   "execution_count": null
  },
  {
   "metadata": {},
   "cell_type": "markdown",
   "source": "# RAG Evaluation",
   "id": "9f9de2fd1d00cbd0"
  },
  {
   "metadata": {},
   "cell_type": "code",
   "source": "user_question = \"How much is shipping to Somalia\"",
   "id": "5018692369b69c20",
   "outputs": [],
   "execution_count": null
  },
  {
   "metadata": {},
   "cell_type": "code",
   "source": [
    "def preprocess_context(raw_context):\n",
    "    s = \"\"\n",
    "    for c in raw_context:\n",
    "        s += c[\"_source\"][\"answer\"]\n",
    "\n",
    "    return s\n",
    "\n",
    "\n",
    "from app.db_ops import query_elasticsearch\n",
    "\n",
    "# from app.rag import get_context, preprocess_context\n",
    "\n",
    "raw_context = query_elasticsearch(question)\n",
    "context = preprocess_context(raw_context)\n"
   ],
   "id": "96054a1f978226ee",
   "outputs": [],
   "execution_count": null
  },
  {
   "metadata": {},
   "cell_type": "code",
   "source": "context",
   "id": "e4b830e57e728c",
   "outputs": [],
   "execution_count": null
  },
  {
   "metadata": {},
   "cell_type": "code",
   "source": [
    "def generate_answer(question, context):\n",
    "    client = Mistral(api_key=api_key)\n",
    "\n",
    "    prompt = f\"\"\"\n",
    "    You are a shop assistant. Reply briefly. Give a simple explanation. \n",
    "    Given the context information and not prior knowledge, answer the query. \n",
    "    Query: \n",
    "    ```\n",
    "    {question}\n",
    "    ```\n",
    "    Context:     \n",
    "    ```\n",
    "    {context}\n",
    "    ```\n",
    "    Answer:\n",
    "    \"\"\"\n",
    "    print(prompt)\n",
    "\n",
    "    chat_response = client.chat.complete(\n",
    "        model=model,\n",
    "        messages=[\n",
    "            {\n",
    "                \"role\": \"user\",\n",
    "                \"content\": prompt,\n",
    "            },\n",
    "        ],\n",
    "    )\n",
    "    ans = chat_response.choices[0].message.content\n",
    "    print(ans)\n",
    "    return ans, chat_response\n",
    "\n",
    "\n",
    "ans, meta = generate_answer(user_question, context)"
   ],
   "id": "6012678b80cc5fab",
   "outputs": [],
   "execution_count": null
  },
  {
   "metadata": {},
   "cell_type": "code",
   "source": "ans",
   "id": "dc8d1d8bfce6bf07",
   "outputs": [],
   "execution_count": null
  },
  {
   "metadata": {},
   "cell_type": "code",
   "source": [
    "import numpy as np\n",
    "\n",
    "\n",
    "def cosine_similarity(v_original_np, v_llm_np):\n",
    "    # Compute the dot product\n",
    "    dot_product = np.dot(v_llm_np, v_original_np)\n",
    "\n",
    "    # Compute the magnitudes (norms) of the vectors\n",
    "    magnitude_v_original = np.linalg.norm(v_original_np)\n",
    "    magnitude_v_llm = np.linalg.norm(v_llm_np)\n",
    "\n",
    "    cosine_similarity = dot_product / (magnitude_v_original * magnitude_v_llm)\n",
    "\n",
    "    return cosine_similarity"
   ],
   "id": "ccbe2e511660ae4",
   "outputs": [],
   "execution_count": null
  },
  {
   "metadata": {},
   "cell_type": "code",
   "source": [
    "from time import sleep\n",
    "import pandas as pd\n",
    "\n",
    "raw_question = []\n",
    "raw_answer = []\n",
    "llm_answer = []\n",
    "\n",
    "questions = pd.read_csv('../data/questions-raw.csv')"
   ],
   "id": "68425d4970611b0d",
   "outputs": [],
   "execution_count": null
  },
  {
   "metadata": {},
   "cell_type": "code",
   "source": [
    "for _, row in questions.iterrows():\n",
    "    q = row['question']\n",
    "    a = row['answer']\n",
    "    \n",
    "    # print(q)\n",
    "    raw_context = query_elasticsearch(q)\n",
    "    context = preprocess_context(raw_context)\n",
    "    ans, meta = generate_answer(q, context)\n",
    "    raw_question.append(q)\n",
    "    raw_answer.append(a)\n",
    "    llm_answer.append(ans)\n",
    "    sleep(5)\n"
   ],
   "id": "3539bbf057f80bc5",
   "outputs": [],
   "execution_count": null
  },
  {
   "metadata": {},
   "cell_type": "code",
   "source": [
    "from sentence_transformers import SentenceTransformer\n",
    "\n",
    "cosine_sim = []\n",
    "model = SentenceTransformer(\"multi-qa-distilbert-cos-v1\")\n",
    "\n",
    "for a, llm_a in zip(raw_answer, llm_answer):\n",
    "    a_vector = model.encode(a)\n",
    "    llm_vector = model.encode(llm_a)\n",
    "    cosine_sim.append(cosine_similarity(a_vector, llm_vector))"
   ],
   "id": "e19244a9f8ea5ebe",
   "outputs": [],
   "execution_count": null
  },
  {
   "metadata": {},
   "cell_type": "code",
   "source": "cosine_sim",
   "id": "cc05b50ab6d1920b",
   "outputs": [],
   "execution_count": null
  },
  {
   "metadata": {
    "ExecuteTime": {
     "end_time": "2024-10-07T09:41:04.369139Z",
     "start_time": "2024-10-07T09:41:04.214778Z"
    }
   },
   "cell_type": "code",
   "source": [
    "import matplotlib.pyplot as plt\n",
    "pd.DataFrame(cosine_sim).hist(bins=10)"
   ],
   "id": "69a00cdae511e48e",
   "outputs": [
    {
     "data": {
      "text/plain": [
       "array([[<Axes: title={'center': '0'}>]], dtype=object)"
      ]
     },
     "execution_count": 29,
     "metadata": {},
     "output_type": "execute_result"
    },
    {
     "data": {
      "text/plain": [
       "<Figure size 640x480 with 1 Axes>"
      ],
      "image/png": "[encoded data removed]"
     },
     "metadata": {},
     "output_type": "display_data"
    }
   ],
   "execution_count": 29
  },
  {
   "metadata": {},
   "cell_type": "code",
   "source": "",
   "id": "70bd8f9ce52db22",
   "outputs": [],
   "execution_count": null
  }
 ],
 "metadata": {
  "kernelspec": {
   "display_name": "Python 3",
   "language": "python",
   "name": "python3"
  },
  "language_info": {
   "codemirror_mode": {
    "name": "ipython",
    "version": 2
   },
   "file_extension": ".py",
   "mimetype": "text/x-python",
   "name": "python",
   "nbconvert_exporter": "python",
   "pygments_lexer": "ipython2",
   "version": "2.7.6"
  }
 },
 "nbformat": 4,
 "nbformat_minor": 5
}
