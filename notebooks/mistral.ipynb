{
 "cells": [
  {
   "metadata": {},
   "cell_type": "markdown",
   "source": "# Mistral test\n",
   "id": "c54672b212659962"
  },
  {
   "metadata": {
    "collapsed": true,
    "ExecuteTime": {
     "end_time": "2024-10-04T12:53:41.071511Z",
     "start_time": "2024-10-04T12:53:39.708796Z"
    }
   },
   "cell_type": "code",
   "source": [
    "import pandas as pd\n",
    "from mistralai import Mistral\n",
    "\n",
    "from mistral_key import key\n",
    "\n",
    "api_key = key\n",
    "model = \"mistral-small-2409\"\n",
    "\n",
    "client = Mistral(api_key=api_key)\n",
    "\n",
    "context = \"Shipping costs 5€ in the EU, 10€ outside of the EU in Europe, 15€ to the US and Canada and 20€ everywhere else.\"\n",
    "\n",
    "question = 'How much is shipping to Somalia?'\n",
    "\n",
    "prompt = f\"\"\"\n",
    "Context information is below.\n",
    "---------------------\n",
    "{context}\n",
    "---------------------\n",
    "You are a shop assistant. Be polite with the customer. Don't give any explanation. Reply briefly.\n",
    "Given the context information and not prior knowledge, answer the query. \n",
    "Query: {question}\n",
    "Answer:\n",
    "\"\"\"\n",
    "\n",
    "chat_response = client.chat.complete(\n",
    "    model=model,\n",
    "    messages=[\n",
    "        {\n",
    "            \"role\": \"user\",\n",
    "            \"content\": prompt,\n",
    "        },\n",
    "    ]\n",
    ")\n",
    "ans = chat_response.choices[0].message.content\n",
    "print(ans)"
   ],
   "id": "initial_id",
   "outputs": [
    {
     "name": "stdout",
     "output_type": "stream",
     "text": [
      "Shipping to Somalia is 20€.\n"
     ]
    }
   ],
   "execution_count": 1
  },
  {
   "metadata": {
    "ExecuteTime": {
     "end_time": "2024-10-04T13:19:51.438712Z",
     "start_time": "2024-10-04T13:19:51.434535Z"
    }
   },
   "cell_type": "code",
   "source": "chat_response",
   "id": "c4b7e2a5d94a8f33",
   "outputs": [
    {
     "data": {
      "text/plain": [
       "ChatCompletionResponse(id='1e3111fd63984f548de394238b473119', object='chat.completion', model='mistral-small-2409', usage=UsageInfo(prompt_tokens=111, completion_tokens=11, total_tokens=122), created=1728046422, choices=[ChatCompletionChoice(index=0, message=AssistantMessage(content='Shipping to Somalia is 20€.', tool_calls=None, prefix=False, role='assistant'), finish_reason='stop')])"
      ]
     },
     "execution_count": 10,
     "metadata": {},
     "output_type": "execute_result"
    }
   ],
   "execution_count": 10
  },
  {
   "metadata": {
    "ExecuteTime": {
     "end_time": "2024-10-04T13:21:43.226957Z",
     "start_time": "2024-10-04T13:21:43.223542Z"
    }
   },
   "cell_type": "code",
   "source": [
    "print(chat_response.model)\n",
    "print(chat_response.usage.prompt_tokens)\n",
    "print(chat_response.usage.completion_tokens)\n",
    "\n"
   ],
   "id": "7c31e8606b62f205",
   "outputs": [
    {
     "name": "stdout",
     "output_type": "stream",
     "text": [
      "mistral-small-2409\n",
      "111\n",
      "11\n"
     ]
    }
   ],
   "execution_count": 11
  },
  {
   "metadata": {
    "ExecuteTime": {
     "end_time": "2024-10-02T17:53:20.006646Z",
     "start_time": "2024-10-02T17:53:16.739892Z"
    }
   },
   "cell_type": "code",
   "source": [
    "prompt_template = \"\"\"\n",
    "    You are an expert evaluator for a Retrieval-Augmented Generation (RAG) system.\n",
    "    Your task is to analyze the relevance of the generated answer to the given question.\n",
    "    Based on the relevance of the generated answer, you will classify it\n",
    "    as \"NON_RELEVANT\", \"PARTLY_RELEVANT\", or \"RELEVANT\".\n",
    "\n",
    "    Here is the data for evaluation:\n",
    "\n",
    "    Question: {question}\n",
    "    Generated Answer: {answer}\n",
    "\n",
    "    Please analyze the content and context of the generated answer in relation to the question\n",
    "    and provide your evaluation in parsable JSON without using code blocks:\n",
    "\n",
    "    {{\n",
    "      \"Relevance\": \"NON_RELEVANT\" | \"PARTLY_RELEVANT\" | \"RELEVANT\",\n",
    "      \"Explanation\": \"[Provide a brief explanation for your evaluation]\"\n",
    "    }}\n",
    "    \"\"\".strip()\n",
    "\n",
    "prompt_eval = prompt_template.format(question=question, answer=ans)\n",
    "chat_response_eval = client.chat.complete(\n",
    "    model=model,\n",
    "    messages=[\n",
    "        {\n",
    "            \"role\": \"user\",\n",
    "            \"content\": prompt_eval,\n",
    "        },\n",
    "    ]\n",
    ")\n",
    "eval_ans = chat_response_eval.choices[0].message.content\n",
    "print(eval_ans)"
   ],
   "id": "f76a6fc6150c467f",
   "outputs": [
    {
     "name": "stdout",
     "output_type": "stream",
     "text": [
      "{\n",
      "      \"Relevance\": \"PARTLY_RELEVANT\",\n",
      "      \"Explanation\": \"The generated answer provides a specific cost for shipping to Somalia, which directly addresses the question. However, the currency (€) used might not be relevant to all users, as they may expect the cost in a different currency. Therefore, the answer is partly relevant.\"\n",
      "    }\n"
     ]
    }
   ],
   "execution_count": 3
  },
  {
   "metadata": {
    "ExecuteTime": {
     "end_time": "2024-10-02T17:54:16.174430Z",
     "start_time": "2024-10-02T17:54:16.165036Z"
    }
   },
   "cell_type": "code",
   "source": [
    "import json\n",
    "json.loads(eval_ans)"
   ],
   "id": "4f9c2d55b7a7d8cd",
   "outputs": [
    {
     "data": {
      "text/plain": [
       "{'Relevance': 'PARTLY_RELEVANT',\n",
       " 'Explanation': 'The generated answer provides a specific cost for shipping to Somalia, which directly addresses the question. However, the currency (€) used might not be relevant to all users, as they may expect the cost in a different currency. Therefore, the answer is partly relevant.'}"
      ]
     },
     "execution_count": 5,
     "metadata": {},
     "output_type": "execute_result"
    }
   ],
   "execution_count": 5
  },
  {
   "metadata": {},
   "cell_type": "markdown",
   "source": "# Ground truth generation\n",
   "id": "56db1d9445130e95"
  },
  {
   "metadata": {
    "ExecuteTime": {
     "end_time": "2024-09-30T10:17:06.199289Z",
     "start_time": "2024-09-30T10:17:06.192481Z"
    }
   },
   "cell_type": "code",
   "source": [
    "questions_path = \"data/questions.json\"\n",
    "import json\n",
    "import hashlib\n",
    "\n",
    "# Open and load the JSON file\n",
    "with open(questions_path, 'r') as file:\n",
    "    questions = json.load(file)\n",
    "\n",
    "questions"
   ],
   "id": "f86a87809aa916a7",
   "outputs": [
    {
     "data": {
      "text/plain": [
       "{'questions': [{'question': 'How can I create an account?',\n",
       "   'answer': \"To create an account, click on the 'Sign Up' button on the top right corner of our website and follow the instructions to complete the registration process.\"},\n",
       "  {'question': 'What payment methods do you accept?',\n",
       "   'answer': 'We accept major credit cards, debit cards, and PayPal as payment methods for online orders.'},\n",
       "  {'question': 'How can I track my order?',\n",
       "   'answer': \"You can track your order by logging into your account and navigating to the 'Order History' section. There, you will find the tracking information for your shipment.\"},\n",
       "  {'question': 'What is your return policy?',\n",
       "   'answer': 'Our return policy allows you to return products within 30 days of purchase for a full refund, provided they are in their original condition and packaging. Please refer to our Returns page for detailed instructions.'},\n",
       "  {'question': 'Can I cancel my order?',\n",
       "   'answer': 'You can cancel your order if it has not been shipped yet. Please contact our customer support team with your order details, and we will assist you with the cancellation process.'},\n",
       "  {'question': 'How long does shipping take?',\n",
       "   'answer': 'Shipping times vary depending on the destination and the shipping method chosen. Standard shipping usually takes 3-5 business days, while express shipping can take 1-2 business days.'},\n",
       "  {'question': 'Do you offer international shipping?',\n",
       "   'answer': 'Yes, we offer international shipping to select countries. The availability and shipping costs will be calculated during the checkout process based on your location.'},\n",
       "  {'question': 'How much does shipping cost?',\n",
       "   'answer': 'Shipping costs 5€ in the EU, 10€ outside of the EU in Europe, 15€ to the US and Canada and 20€ everywhere else.'},\n",
       "  {'question': 'What should I do if my package is lost or damaged?',\n",
       "   'answer': 'If your package is lost or damaged during transit, please contact our customer support team immediately. We will initiate an investigation and take the necessary steps to resolve the issue.'},\n",
       "  {'question': 'Can I change my shipping address after placing an order?',\n",
       "   'answer': 'If you need to change your shipping address, please contact our customer support team as soon as possible. We will do our best to update the address if the order has not been shipped yet.'},\n",
       "  {'question': 'How can I contact customer support?',\n",
       "   'answer': 'You can contact our customer support team by phone at 112 or by email at shop@shop.fr. Our team is available 8-18 CET to assist you with any inquiries or issues you may have.'},\n",
       "  {'question': 'Do you offer gift wrapping services?',\n",
       "   'answer': 'Yes, we offer gift wrapping services for an additional fee. During the checkout process, you can select the option to add gift wrapping to your order.'},\n",
       "  {'question': 'What is your price matching policy?',\n",
       "   'answer': \"We have a price matching policy where we will match the price of an identical product found on a competitor's website. Please contact our customer support team with the details of the product and the competitor's offer.\"},\n",
       "  {'question': 'Can I order by phone?',\n",
       "   'answer': 'Unfortunately, we do not accept orders over the phone. Please place your order through our website for a smooth and secure transaction.'},\n",
       "  {'question': 'Are my personal and payment details secure?',\n",
       "   'answer': 'Yes, we take the security of your personal and payment details seriously. We use industry-standard encryption and follow strict security protocols to ensure your information is protected.'},\n",
       "  {'question': 'What is your price adjustment policy?',\n",
       "   'answer': 'If a product you purchased goes on sale within 7 days of your purchase, we offer a one-time price adjustment. Please contact our customer support team with your order details to request the adjustment.'},\n",
       "  {'question': 'Do you have a loyalty program?',\n",
       "   'answer': 'Yes, we have a loyalty program where you can earn points for every purchase. These points can be redeemed for discounts on future orders. Please visit our website to learn more and join the program.'},\n",
       "  {'question': 'Can I order without creating an account?',\n",
       "   'answer': 'Yes, you can place an order as a guest without creating an account. However, creating an account offers benefits such as order tracking and easier future purchases.'},\n",
       "  {'question': 'Do you offer bulk or wholesale discounts?',\n",
       "   'answer': 'Yes, we offer bulk or wholesale discounts for certain products. Please contact our customer support team or visit our Wholesale page for more information and to discuss your specific requirements.'},\n",
       "  {'question': 'Can I change or cancel an item in my order?',\n",
       "   'answer': 'If you need to change or cancel an item in your order, please contact our customer support team as soon as possible. We will assist you with the necessary steps.'},\n",
       "  {'question': 'How can I leave a product review?',\n",
       "   'answer': \"To leave a product review, navigate to the product page on our website and click on the 'Write a Review' button. You can share your feedback and rating based on your experience with the product.\"},\n",
       "  {'question': 'Can I use multiple promo codes on a single order?',\n",
       "   'answer': 'Usually, only one promo code can be applied per order. During the checkout process, enter the promo code in the designated field to apply the discount to your order.'},\n",
       "  {'question': 'What should I do if I receive the wrong item?',\n",
       "   'answer': 'If you receive the wrong item in your order, please contact our customer support team immediately. We will arrange for the correct item to be shipped to you and assist with returning the wrong item.'},\n",
       "  {'question': 'Do you offer expedited shipping?',\n",
       "   'answer': 'Yes, we offer expedited shipping options for faster delivery. During the checkout process, you can select the desired expedited shipping method.'},\n",
       "  {'question': 'Can I order a product that is out of stock?',\n",
       "   'answer': 'If a product is currently out of stock, you will usually see an option to sign up for product notifications. This way, you will be alerted when the product becomes available again.'},\n",
       "  {'question': 'What is your email newsletter about?',\n",
       "   'answer': 'Our email newsletter provides updates on new product releases, exclusive offers, and helpful tips related to our products. You can subscribe to our newsletter on our website.'},\n",
       "  {'question': 'Can I return a product if I changed my mind?',\n",
       "   'answer': 'Yes, you can return a product if you changed your mind. Please ensure the product is in its original condition and packaging, and refer to our return policy for instructions.'},\n",
       "  {'question': 'Do you offer live chat support?',\n",
       "   'answer': 'Yes, we offer live chat support on our website during our business hours. Look for the chat icon in the bottom right corner to initiate a chat with our customer support team.'},\n",
       "  {'question': 'Can I order a product as a gift?',\n",
       "   'answer': \"Yes, you can order a product as a gift and have it shipped directly to the recipient. During the checkout process, you can enter the recipient's shipping address.\"},\n",
       "  {'question': 'What should I do if my discount code is not working?',\n",
       "   'answer': 'If your discount code is not working, please double-check the terms and conditions associated with the code. If the issue persists, contact our customer support team for assistance.'},\n",
       "  {'question': 'Can I return a product if it was a final sale item?',\n",
       "   'answer': 'Final sale items are usually non-returnable and non-refundable. Please review the product description or contact our customer support team to confirm the return eligibility for specific items.'},\n",
       "  {'question': 'Do you offer installation services for your products?',\n",
       "   'answer': 'Installation services are available for select products. Please check the product description or contact our customer support team for more information and to request installation services.'},\n",
       "  {'question': 'Can I order a product that is discontinued?',\n",
       "   'answer': 'Discontinued products are no longer available for purchase. We recommend exploring alternative products on our website.'},\n",
       "  {'question': 'Can I return a product without a receipt?',\n",
       "   'answer': 'A receipt or proof of purchase is usually required for returns. Please refer to our return policy or contact our customer support team for assistance.'},\n",
       "  {'question': 'Can I order a product for delivery to a different country?',\n",
       "   'answer': 'Yes, we offer international shipping to select countries. Please review the available shipping destinations during checkout or contact our customer support for assistance.'},\n",
       "  {'question': 'Can I add a gift message to my order?',\n",
       "   'answer': 'Yes, you can add a gift message during the checkout process. There is usually a section where you can enter your personalized message.'},\n",
       "  {'question': 'Can I request a product demonstration before making a purchase?',\n",
       "   'answer': 'We do not currently offer product demonstrations before purchase. However, you can find detailed product descriptions, specifications, and customer reviews on our website.'},\n",
       "  {'question': \"Can I order a product that is listed as 'coming soon'?\",\n",
       "   'answer': \"Products listed as 'coming soon' are not available for immediate purchase. Please sign up for notifications to be informed when the product becomes available.\"},\n",
       "  {'question': 'Can I request an invoice for my order?',\n",
       "   'answer': 'Yes, an invoice is usually included with your order. If you require a separate invoice, please contact our customer support team with your order details.'},\n",
       "  {'question': \"Can I order a product that is labeled as 'limited edition'?\",\n",
       "   'answer': \"'Limited edition' products may have restricted availability. We recommend placing an order as soon as possible to secure your item.\"},\n",
       "  {'question': 'Can I return a product if I no longer have the original packaging?',\n",
       "   'answer': 'While returning a product in its original packaging is preferred, you can still initiate a return without it. Contact our customer support team for guidance in such cases.'},\n",
       "  {'question': 'Can I request a product that is currently out of stock to be reserved for me?',\n",
       "   'answer': 'We do not offer reservations for out-of-stock products. However, you can sign up for product notifications to be alerted when it becomes available again.'},\n",
       "  {'question': \"Can I order a product that is listed as 'pre-order' with other in-stock items?\",\n",
       "   'answer': 'Yes, you can place an order with a mix of pre-order and in-stock items. However, please note that the entire order will be shipped once all items are available.'},\n",
       "  {'question': 'Can I return a product if it was damaged during shipping?',\n",
       "   'answer': 'If your product was damaged during shipping, please contact our customer support team immediately. We will guide you through the return and replacement process.'},\n",
       "  {'question': 'Can I request a product that is out of stock to be restocked?',\n",
       "   'answer': 'We strive to restock popular products whenever possible. Please sign up for product notifications to be informed when the item becomes available again.'},\n",
       "  {'question': \"Can I order a product if it is listed as 'backordered'?\",\n",
       "   'answer': \"Products listed as 'backordered' are temporarily out of stock but can still be ordered. Your order will be fulfilled once the product is restocked.\"},\n",
       "  {'question': 'Can I return a product if it was purchased during a sale or with a discount?',\n",
       "   'answer': 'Yes, you can return a product purchased during a sale or with a discount. The refund will be processed based on the amount paid after the discount.'},\n",
       "  {'question': 'Can I request a product repair or replacement if it is damaged?',\n",
       "   'answer': 'If you receive a damaged product, please contact our customer support team immediately. We will assist you with the necessary steps for repair or replacement.'},\n",
       "  {'question': \"Can I order a product if it is listed as 'out of stock' but available for pre-order?\",\n",
       "   'answer': 'If a product is available for pre-order, you can place an order to secure your item. The product will be shipped once it becomes available.'},\n",
       "  {'question': 'Can I return a product if it was purchased as a gift?',\n",
       "   'answer': 'Yes, you can return a product purchased as a gift. However, refunds will typically be issued to the original payment method used for the purchase.'},\n",
       "  {'question': \"Can I request a product if it is listed as 'discontinued'?\",\n",
       "   'answer': \"Unfortunately, if a product is listed as 'discontinued,' it is no longer available for purchase. We recommend exploring alternative products on our website.\"},\n",
       "  {'question': \"Can I order a product if it is listed as 'sold out'?\",\n",
       "   'answer': \"If a product is listed as 'sold out,' it is currently unavailable for purchase. Please check back later or sign up for notifications when it becomes available again.\"},\n",
       "  {'question': 'Can I return a product if it was purchased with a gift card?',\n",
       "   'answer': 'Yes, you can return a product purchased with a gift card. The refund will be issued in the form of store credit or a new gift card.'},\n",
       "  {'question': 'Can I request a product if it is not currently available in my size?',\n",
       "   'answer': 'If a product is not available in your size, it may be temporarily out of stock. Please check back later or sign up for size notifications.'},\n",
       "  {'question': \"Can I order a product if it is listed as 'coming soon' but available for pre-order?\",\n",
       "   'answer': \"If a product is listed as 'coming soon' and available for pre-order, you can place an order to secure your item before it becomes available.\"},\n",
       "  {'question': 'Can I return a product if it was purchased with a discount code?',\n",
       "   'answer': 'Yes, you can return a product purchased with a discount code. The refund will be processed based on the amount paid after the discount.'},\n",
       "  {'question': 'Can I request a custom order or personalized product?',\n",
       "   'answer': 'We do not currently offer custom orders or personalized products. Please explore the available products on our website.'},\n",
       "  {'question': \"Can I order a product if it is listed as 'temporarily unavailable'?\",\n",
       "   'answer': \"If a product is listed as 'temporarily unavailable,' it is out of stock but may be restocked in the future. Please check back later or sign up for notifications.\"},\n",
       "  {'question': 'Can I return a product if it was damaged due to improper use?',\n",
       "   'answer': 'Our return policy generally covers products that are defective or damaged upon arrival. Damage due to improper use may not be eligible for a return. Please contact our customer support team for assistance.'},\n",
       "  {'question': \"Can I request a product if it is listed as 'coming soon' but not available for pre-order?\",\n",
       "   'answer': \"If a product is listed as 'coming soon' but not available for pre-order, you will need to wait until it is officially released and becomes available for purchase.\"},\n",
       "  {'question': \"Can I order a product if it is listed as 'on hold'?\",\n",
       "   'answer': \"If a product is listed as 'on hold,' it is temporarily unavailable for purchase. Please check back later or sign up for notifications when it becomes available.\"},\n",
       "  {'question': 'Can I return a product if I no longer have the original receipt?',\n",
       "   'answer': 'While a receipt is preferred for returns, we may be able to assist you without it. Please contact our customer support team for further guidance.'},\n",
       "  {'question': \"Can I request a product that is listed as 'limited edition' to be restocked?\",\n",
       "   'answer': 'Once a limited edition product is sold out, it may not be restocked. Limited edition items are available for a limited time only, so we recommend purchasing them while they are available.'},\n",
       "  {'question': \"Can I order a product if it is listed as 'discontinued' but still visible on the website?\",\n",
       "   'answer': \"If a product is listed as 'discontinued' but still visible on the website, it may be an error. Please contact our customer support team for clarification.\"},\n",
       "  {'question': 'Can I return a product if it was a clearance or final sale item?',\n",
       "   'answer': 'Clearance or final sale items are typically non-returnable and non-refundable. Please review the product description or contact our customer support team for more information.'},\n",
       "  {'question': 'Can I request a product if it is not listed on your website?',\n",
       "   'answer': 'If a product is not listed on our website, it may not be available for purchase. We recommend exploring the available products or contacting our customer support team for further assistance.'},\n",
       "  {'question': \"Can I order a product if it is listed as 'out of stock' but available for backorder?\",\n",
       "   'answer': \"If a product is listed as 'out of stock' but available for backorder, you can place an order to secure your item. The product will be shipped once it becomes available.\"},\n",
       "  {'question': 'Can I return a product if it was purchased as part of a bundle or set?',\n",
       "   'answer': 'If a product was purchased as part of a bundle or set, the return policy may vary. Please refer to the specific terms and conditions or contact our customer support team for further guidance.'},\n",
       "  {'question': \"Can I request a product that is listed as 'out of stock' to be restocked?\",\n",
       "   'answer': 'We aim to restock popular products whenever possible. Please sign up for product notifications to be alerted when the item becomes available again.'},\n",
       "  {'question': \"Can I order a product if it is listed as 'coming soon' and available for pre-order?\",\n",
       "   'answer': \"If a product is listed as 'coming soon' and available for pre-order, you can place an order to secure your item before it becomes available.\"},\n",
       "  {'question': 'Can I return a product if it was damaged due to mishandling during shipping?',\n",
       "   'answer': 'If your product was damaged due to mishandling during shipping, please contact our customer support team immediately. We will assist you with the necessary steps for return and replacement.'},\n",
       "  {'question': \"Can I request a product that is listed as 'out of stock' to be reserved for me?\",\n",
       "   'answer': 'We do not offer reservations for out-of-stock products. However, you can sign up for product notifications to be alerted when the item becomes available again.'},\n",
       "  {'question': \"Can I order a product if it is listed as 'pre-order' but available for backorder?\",\n",
       "   'answer': \"If a product is listed as 'pre-order' and available for backorder, you can place an order to secure your item. The product will be shipped once it becomes available.\"},\n",
       "  {'question': 'Can I return a product if it was purchased with store credit?',\n",
       "   'answer': 'Yes, you can return a product purchased with store credit. The refund will be issued in the form of store credit, which you can use for future purchases.'},\n",
       "  {'question': 'Can I request a product that is currently out of stock to be restocked?',\n",
       "   'answer': 'We strive to restock popular products whenever possible. Please sign up for product notifications to be informed when the item becomes available again.'},\n",
       "  {'question': \"Can I order a product if it is listed as 'sold out' but available for pre-order?\",\n",
       "   'answer': \"If a product is listed as 'sold out' but available for pre-order, you can place an order to secure your item. The product will be shipped once it becomes available.\"},\n",
       "  {'question': 'Can I return a product if it was purchased with a promotional gift card?',\n",
       "   'answer': 'Yes, you can return a product purchased with a promotional gift card. The refund will be issued in the form of store credit or a new gift card.'},\n",
       "  {'question': 'Can I request a product if it is not currently available in my preferred color?',\n",
       "   'answer': 'If a product is not available in your preferred color, it may be temporarily out of stock. Please check back later or sign up for color notifications.'},\n",
       "  {'question': \"Can I order a product if it is listed as 'coming soon' and not available for pre-order?\",\n",
       "   'answer': \"If a product is listed as 'coming soon' but not available for pre-order, you will need to wait until it is officially released and becomes available for purchase.\"},\n",
       "  {'question': 'Can I return a product if it was purchased during a promotional event?',\n",
       "   'answer': 'Yes, you can return a product purchased during a promotional event. The refund will be processed based on the amount paid after any applicable discounts.'}]}"
      ]
     },
     "execution_count": 15,
     "metadata": {},
     "output_type": "execute_result"
    }
   ],
   "execution_count": 15
  },
  {
   "metadata": {
    "ExecuteTime": {
     "end_time": "2024-09-30T10:18:58.299925Z",
     "start_time": "2024-09-30T10:18:58.295686Z"
    }
   },
   "cell_type": "code",
   "source": [
    "import hashlib\n",
    "\n",
    "docs = questions['questions']\n",
    "\n",
    "\n",
    "def generate_document_id(doc):\n",
    "    combined = f\"{doc['question']}-{doc['answer'][:10]}\"\n",
    "    hash_object = hashlib.md5(combined.encode())\n",
    "    hash_hex = hash_object.hexdigest()\n",
    "    document_id = hash_hex[:8]\n",
    "    return document_id\n",
    "\n",
    "\n",
    "for doc in docs:\n",
    "    doc['id'] = generate_document_id(doc)\n",
    "\n",
    "pd.DataFrame(docs).to_csv('data/questions-raw.csv', index=False)\n"
   ],
   "id": "6e951a26d39c9141",
   "outputs": [],
   "execution_count": 23
  },
  {
   "metadata": {
    "ExecuteTime": {
     "end_time": "2024-09-30T12:35:43.430902Z",
     "start_time": "2024-09-30T12:35:43.425374Z"
    }
   },
   "cell_type": "code",
   "source": [
    "prompt_template = \"\"\"\n",
    "Emulate a client who is planning to buy at our shop.\n",
    "Formulate 5 questions this client might ask based on a FAQ record. The record\n",
    "should contain the answer to the questions, and the questions should be complete and not too short.\n",
    "If possible, use as fewer words as possible from the record. \n",
    "\n",
    "The record:\n",
    "\n",
    "question: {question}\n",
    "answer: {answer}\n",
    "\n",
    "Provide the output in parsable list:\n",
    "\n",
    "[\"question1\", \"question2\", ...]\n",
    "\"\"\".strip()"
   ],
   "id": "14cd08127e125cd3",
   "outputs": [],
   "execution_count": 94
  },
  {
   "metadata": {
    "ExecuteTime": {
     "end_time": "2024-09-30T12:35:44.060967Z",
     "start_time": "2024-09-30T12:35:44.057485Z"
    }
   },
   "cell_type": "code",
   "source": [
    "def generate_question(doc):\n",
    "    prompt = prompt_template.format(**doc)\n",
    "\n",
    "    chat_response = client.chat.complete(\n",
    "        model=model,\n",
    "        messages=[\n",
    "            {\n",
    "                \"role\": \"user\",\n",
    "                \"content\": prompt,\n",
    "            },\n",
    "        ]\n",
    "    )\n",
    "    ans = chat_response.choices[0].message.content\n",
    "    return ans"
   ],
   "id": "f1501e3f0ab88511",
   "outputs": [],
   "execution_count": 95
  },
  {
   "metadata": {
    "ExecuteTime": {
     "end_time": "2024-09-30T12:35:45.227291Z",
     "start_time": "2024-09-30T12:35:45.224898Z"
    }
   },
   "cell_type": "code",
   "source": "",
   "id": "7f8754410d972f0d",
   "outputs": [],
   "execution_count": null
  },
  {
   "metadata": {
    "ExecuteTime": {
     "end_time": "2024-09-30T12:48:28.704882Z",
     "start_time": "2024-09-30T12:37:45.394596Z"
    }
   },
   "cell_type": "code",
   "source": [
    "import time\n",
    "from tqdm.auto import tqdm\n",
    "\n",
    "gen_questions = {}\n",
    "\n",
    "for doc in tqdm(docs[:1]):\n",
    "    q = generate_question(doc)\n",
    "    gen_questions[doc['id']] = json.loads(q)\n",
    "    time.sleep(6)"
   ],
   "id": "22ef814afaabba79",
   "outputs": [
    {
     "name": "stderr",
     "output_type": "stream",
     "text": [
      "100%|██████████| 80/80 [10:43<00:00,  8.04s/it]\n"
     ]
    }
   ],
   "execution_count": 97
  },
  {
   "metadata": {
    "ExecuteTime": {
     "end_time": "2024-09-30T12:48:37.808234Z",
     "start_time": "2024-09-30T12:48:37.803407Z"
    }
   },
   "cell_type": "code",
   "source": [
    "final = []\n",
    "for doc_id, questions in gen_questions.items():\n",
    "    for question in questions:\n",
    "        final.append((doc_id, question))\n"
   ],
   "id": "5bf89790f3af1c1b",
   "outputs": [],
   "execution_count": 98
  },
  {
   "metadata": {
    "ExecuteTime": {
     "end_time": "2024-09-30T12:48:41.185718Z",
     "start_time": "2024-09-30T12:48:41.176996Z"
    }
   },
   "cell_type": "code",
   "source": [
    "import pandas as pd\n",
    "\n",
    "df_questions = pd.DataFrame(final, columns=['doc_id', 'question'])\n",
    "# df_questions.to_csv(\"data/ground_truth.csv\", index=False)\n"
   ],
   "id": "e526090803bdf28b",
   "outputs": [],
   "execution_count": 99
  },
  {
   "metadata": {
    "ExecuteTime": {
     "end_time": "2024-09-30T12:24:12.292240Z",
     "start_time": "2024-09-30T12:24:12.283614Z"
    }
   },
   "cell_type": "code",
   "source": "df_questions",
   "id": "cb4b2037c2e4e438",
   "outputs": [
    {
     "data": {
      "text/plain": [
       "     doc_id                                           question\n",
       "0  a5825c73        How do I set up an account on your website?\n",
       "1  a5825c73             Where can I find the 'Sign Up' button?\n",
       "2  a5825c73  What steps should I follow to complete the reg...\n",
       "3  a5825c73  Is there a specific place on the website where...\n",
       "4  a5825c73  Can you guide me through the account creation ...\n",
       "5  db025979  What forms of payment are accepted for online ...\n",
       "6  db025979  Which credit cards can I use to pay for my order?\n",
       "7  db025979     Can I pay using my debit card on your website?\n",
       "8  db025979       Is PayPal an option for paying on your site?\n",
       "9  db025979  What are the acceptable payment methods for on..."
      ],
      "text/html": [
       "<div>\n",
       "<style scoped>\n",
       "    .dataframe tbody tr th:only-of-type {\n",
       "        vertical-align: middle;\n",
       "    }\n",
       "\n",
       "    .dataframe tbody tr th {\n",
       "        vertical-align: top;\n",
       "    }\n",
       "\n",
       "    .dataframe thead th {\n",
       "        text-align: right;\n",
       "    }\n",
       "</style>\n",
       "<table border=\"1\" class=\"dataframe\">\n",
       "  <thead>\n",
       "    <tr style=\"text-align: right;\">\n",
       "      <th></th>\n",
       "      <th>doc_id</th>\n",
       "      <th>question</th>\n",
       "    </tr>\n",
       "  </thead>\n",
       "  <tbody>\n",
       "    <tr>\n",
       "      <th>0</th>\n",
       "      <td>a5825c73</td>\n",
       "      <td>How do I set up an account on your website?</td>\n",
       "    </tr>\n",
       "    <tr>\n",
       "      <th>1</th>\n",
       "      <td>a5825c73</td>\n",
       "      <td>Where can I find the 'Sign Up' button?</td>\n",
       "    </tr>\n",
       "    <tr>\n",
       "      <th>2</th>\n",
       "      <td>a5825c73</td>\n",
       "      <td>What steps should I follow to complete the reg...</td>\n",
       "    </tr>\n",
       "    <tr>\n",
       "      <th>3</th>\n",
       "      <td>a5825c73</td>\n",
       "      <td>Is there a specific place on the website where...</td>\n",
       "    </tr>\n",
       "    <tr>\n",
       "      <th>4</th>\n",
       "      <td>a5825c73</td>\n",
       "      <td>Can you guide me through the account creation ...</td>\n",
       "    </tr>\n",
       "    <tr>\n",
       "      <th>5</th>\n",
       "      <td>db025979</td>\n",
       "      <td>What forms of payment are accepted for online ...</td>\n",
       "    </tr>\n",
       "    <tr>\n",
       "      <th>6</th>\n",
       "      <td>db025979</td>\n",
       "      <td>Which credit cards can I use to pay for my order?</td>\n",
       "    </tr>\n",
       "    <tr>\n",
       "      <th>7</th>\n",
       "      <td>db025979</td>\n",
       "      <td>Can I pay using my debit card on your website?</td>\n",
       "    </tr>\n",
       "    <tr>\n",
       "      <th>8</th>\n",
       "      <td>db025979</td>\n",
       "      <td>Is PayPal an option for paying on your site?</td>\n",
       "    </tr>\n",
       "    <tr>\n",
       "      <th>9</th>\n",
       "      <td>db025979</td>\n",
       "      <td>What are the acceptable payment methods for on...</td>\n",
       "    </tr>\n",
       "  </tbody>\n",
       "</table>\n",
       "</div>"
      ]
     },
     "execution_count": 88,
     "metadata": {},
     "output_type": "execute_result"
    }
   ],
   "execution_count": 88
  },
  {
   "metadata": {},
   "cell_type": "code",
   "outputs": [],
   "execution_count": null,
   "source": "",
   "id": "625ce3e9a08a7443"
  }
 ],
 "metadata": {
  "kernelspec": {
   "display_name": "Python 3",
   "language": "python",
   "name": "python3"
  },
  "language_info": {
   "codemirror_mode": {
    "name": "ipython",
    "version": 2
   },
   "file_extension": ".py",
   "mimetype": "text/x-python",
   "name": "python",
   "nbconvert_exporter": "python",
   "pygments_lexer": "ipython2",
   "version": "2.7.6"
  }
 },
 "nbformat": 4,
 "nbformat_minor": 5
}
